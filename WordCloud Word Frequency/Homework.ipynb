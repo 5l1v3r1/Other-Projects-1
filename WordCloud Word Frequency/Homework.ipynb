{
 "cells": [
  {
   "cell_type": "code",
   "execution_count": 1,
   "metadata": {},
   "outputs": [
    {
     "name": "stderr",
     "output_type": "stream",
     "text": [
      "[nltk_data] Downloading package punkt to /home/woosal/nltk_data...\n",
      "[nltk_data]   Package punkt is already up-to-date!\n"
     ]
    },
    {
     "data": {
      "text/plain": [
       "True"
      ]
     },
     "execution_count": 1,
     "metadata": {},
     "output_type": "execute_result"
    }
   ],
   "source": [
    "import numpy as np\n",
    "import pandas as pd\n",
    "import matplotlib.pyplot as plt\n",
    "import seaborn as sns\n",
    "from textblob import TextBlob, Word, Blobber\n",
    "import nltk\n",
    "nltk.download(\"punkt\")"
   ]
  },
  {
   "cell_type": "code",
   "execution_count": 2,
   "metadata": {},
   "outputs": [
    {
     "data": {
      "image/png": "[encoded data removed]",
      "text/plain": [
       "<Figure size 432x288 with 1 Axes>"
      ]
     },
     "metadata": {
      "needs_background": "light"
     },
     "output_type": "display_data"
    }
   ],
   "source": [
    "# Question 1 / B\n",
    "objects = (\"ASELS\", \"BIMAS\", \"GARAN\", \"ALKIM\", \"SASA\", \"THYAO\")\n",
    "y_pos = np.arange(len(objects))\n",
    "performance = [28.86, 56.50, 7.70, 14.20, 10.14, 10.58]\n",
    "\n",
    "plt.bar(y_pos, performance, align='center', alpha=0.5)\n",
    "plt.xticks(y_pos, objects)\n",
    "plt.ylabel('Popularity')\n",
    "plt.title('Stocks')\n",
    "\n",
    "plt.show()"
   ]
  },
  {
   "cell_type": "code",
   "execution_count": null,
   "metadata": {},
   "outputs": [
    {
     "name": "stdout",
     "output_type": "stream",
     "text": [
      "Number of WORDS: 121533\n",
      "Number of CHARACTERS: 684233\n",
      "Average WORD LENGTH is:  5.630018184361449\n",
      "Average Sentence Length is:  20.340116763969974\n"
     ]
    }
   ],
   "source": [
    "# Question 2 / A\n",
    "import SentencesConverter\n",
    "\n",
    "# Opening and reading the book\n",
    "file = open(\"text.txt\",\"r\", encoding=\"utf8\")\n",
    "inside = file.read()\n",
    "\n",
    "# Finding the list of Sentences, Words, and Characters (New *Sentences Library* was used as NLP was kind of stucked finding the correct answer.)\n",
    "sentences = SentencesConverter.sentences(inside)\n",
    "words = inside.split()\n",
    "characters = len(inside)\n",
    "\n",
    "\n",
    "# Word Count\n",
    "print('Number of WORDS: {}'.format(len(words)))\n",
    "\n",
    "# Character Count\n",
    "print('Number of CHARACTERS: {}'.format(characters))\n",
    "\n",
    "# Average Word Length\n",
    "averageWordLength = characters / len(words)\n",
    "print(\"Average WORD LENGTH is: \", averageWordLength)\n",
    "\n",
    "# Average Sentence Length\n",
    "averageSentenceLength = sum(len(i.split()) for i in sentences) / len(sentences)\n",
    "print(\"Average Sentence Length is: \", averageSentenceLength)\n",
    "\n",
    "# Frequency Counts of All WORDS (Only first 5 were shown in order to wsave some space)\n",
    "wordlist = inside.split()\n",
    "\n",
    "wordfreq = []\n",
    "for w in wordlist:\n",
    "    wordfreq.append(wordlist.count(w))\n",
    "\n",
    "print(str(list(zip(wordlist, wordfreq))))"
   ]
  },
  {
   "cell_type": "code",
   "execution_count": null,
   "metadata": {},
   "outputs": [],
   "source": []
  }
 ],
 "metadata": {
  "kernelspec": {
   "display_name": "Python 3",
   "language": "python",
   "name": "python3"
  },
  "language_info": {
   "codemirror_mode": {
    "name": "ipython",
    "version": 3
   },
   "file_extension": ".py",
   "mimetype": "text/x-python",
   "name": "python",
   "nbconvert_exporter": "python",
   "pygments_lexer": "ipython3",
   "version": "3.7.6"
  }
 },
 "nbformat": 4,
 "nbformat_minor": 4
}
